{
 "cells": [
  {
   "cell_type": "code",
   "execution_count": 2,
   "id": "78f967ed-a18c-46aa-a5f1-240fa5020363",
   "metadata": {},
   "outputs": [],
   "source": [
    "import pandas as pd\n",
    "import numpy as np\n",
    "import seaborn as sns #그래프용 seaborn 라이브러리\n",
    "import matplotlib.pyplot as plt #그래프 표시\n",
    "import re\n",
    "import torch.nn as nn\n",
    "import torch.optim as optim\n",
    "from torch.utils.data import DataLoader, Dataset\n",
    "from sklearn.model_selection import train_test_split"
   ]
  },
  {
   "cell_type": "code",
   "execution_count": 4,
   "id": "dba3e8dd-3b6a-42a2-8246-dbeb987f0166",
   "metadata": {},
   "outputs": [
    {
     "name": "stdout",
     "output_type": "stream",
     "text": [
      "PyTorch Version: 2.0.1\n",
      "Torchtext Version: 0.15.2\n"
     ]
    }
   ],
   "source": [
    "import torch\n",
    "import torchtext\n",
    "\n",
    "print(\"PyTorch Version:\", torch.__version__)\n",
    "print(\"Torchtext Version:\", torchtext.__version__)"
   ]
  },
  {
   "cell_type": "code",
   "execution_count": null,
   "id": "3036647f-85cf-416e-9da2-12d3d6504720",
   "metadata": {},
   "outputs": [],
   "source": [
    "# 기존의 torch 및 torchtext 제거\n",
    "!pip uninstall -y torch torchvision torchaudio torchtext\n",
    "\n",
    "# PyTorch 2.0.1 및 Torchtext 0.15.2 설치\n",
    "!pip install torch==2.0.1 torchvision torchaudio torchtext==0.15.2"
   ]
  },
  {
   "cell_type": "markdown",
   "id": "48234d3b-33ba-42b0-ad3c-b1004fd339c2",
   "metadata": {},
   "source": [
    "1. 데이터셋 불러오기"
   ]
  },
  {
   "cell_type": "code",
   "execution_count": 1,
   "id": "ef4d071a-ff20-408f-9f8c-dad503f87d50",
   "metadata": {},
   "outputs": [],
   "source": [
    "import os\n",
    "os.chdir('/Users/jinee/Downloads')\n",
    "\n",
    "# 데이터 로드\n",
    "data = pd.read_csv('netflix_reviews.csv')"
   ]
  },
  {
   "cell_type": "markdown",
   "id": "9af5eb96-4077-417f-93db-b017905a9283",
   "metadata": {},
   "source": [
    "2. 데이터 전처리"
   ]
  },
  {
   "cell_type": "code",
   "execution_count": 5,
   "id": "ace04ff5-dfe3-4efb-80ed-589be15b4ca5",
   "metadata": {},
   "outputs": [],
   "source": [
    "# 데이터 전처리 함수\n",
    "def preprocess_text(content):\n",
    "    if isinstance(content, float):\n",
    "        return ''\n",
    "    content = content.lower()\n",
    "    content = re.sub(r'[^/w/s]', '', content)\n",
    "    content = re.sub(r'\\d+', '', content)\n",
    "    content = content.strip()\n",
    "    return content"
   ]
  },
  {
   "cell_type": "code",
   "execution_count": null,
   "id": "6a43bd60-b736-4df6-be7e-9836e3c39d99",
   "metadata": {},
   "outputs": [],
   "source": [
    "3. feature 분석"
   ]
  },
  {
   "cell_type": "code",
   "execution_count": 13,
   "id": "1ee5ed9b-aaa9-4d2f-b85f-2904b61f1697",
   "metadata": {},
   "outputs": [
    {
     "name": "stderr",
     "output_type": "stream",
     "text": [
      "/var/folders/6r/4f9h9b394358ljn61rk9pqlr0000gn/T/ipykernel_22140/3409783522.py:3: FutureWarning: \n",
      "\n",
      "Passing `palette` without assigning `hue` is deprecated and will be removed in v0.14.0. Assign the `x` variable to `hue` and set `legend=False` for the same effect.\n",
      "\n",
      "  sns.barplot(x=data['score'].value_counts().index, y=data['score'].value_counts().values, palette=palette)\n"
     ]
    },
    {
     "data": {
      "image/png": "[encoded data removed]",
      "text/plain": [
       "<Figure size 640x480 with 1 Axes>"
      ]
     },
     "metadata": {},
     "output_type": "display_data"
    }
   ],
   "source": [
    "# 시각화\n",
    "palette = sns.color_palette('husl', 5)\n",
    "sns.barplot(x=data['score'].value_counts().index, y=data['score'].value_counts().values, palette=palette)\n",
    "plt.xlabel('score')\n",
    "plt.ylabel('count')\n",
    "plt.title('Netflix Review Analysis')\n",
    "plt.show()"
   ]
  },
  {
   "cell_type": "code",
   "execution_count": 7,
   "id": "71621a43-4922-43bf-8aa0-fb13232263ff",
   "metadata": {},
   "outputs": [],
   "source": [
    "# Dataset 클래스 정의\n",
    "class ReviewDataset(Dataset):\n",
    "    def __init__(self, content, score, preprocess_text):\n",
    "        self.content = content\n",
    "        self.score = score\n",
    "        self.preprocess_text = preprocess_text\n",
    "\n",
    "    def __len__(self):\n",
    "        return len(self.content)\n",
    "\n",
    "    def __getitem__(self, idx):\n",
    "        content = self.preprocess_text(self.content.iloc[idx])\n",
    "        score = self.score.iloc[idx]\n",
    "        return content, score"
   ]
  },
  {
   "cell_type": "code",
   "execution_count": 8,
   "id": "0c1a9ad3-a3c6-4fa9-94d5-9dc315a0a164",
   "metadata": {},
   "outputs": [],
   "source": [
    "# 데이터 분할\n",
    "train_content, test_content, train_score, test_score = train_test_split(\n",
    "    data['content'], data['score'], test_size=0.2, random_state=42)\n",
    "\n",
    "# 배치 크기 설정\n",
    "batch_size = 64\n",
    "\n",
    "# Dataset 객체 생성\n",
    "train_dataset = ReviewDataset(train_content, train_score, preprocess_text)\n",
    "test_dataset = ReviewDataset(test_content, test_score, preprocess_text)\n"
   ]
  },
  {
   "cell_type": "code",
   "execution_count": 10,
   "id": "30e3c425-b659-4dc1-ab0e-cd922d728e8a",
   "metadata": {},
   "outputs": [],
   "source": [
    "def content_text(content):\n",
    "    for text in content:\n",
    "        # 만약 숫자형(float)이거나 NaN인 경우 빈 문자열로 처리\n",
    "        if isinstance(text, float):\n",
    "            text = \"\"\n",
    "        yield text.split()\n",
    "\n",
    "from torchtext.vocab import build_vocab_from_iterator\n",
    "vocab = build_vocab_from_iterator(content_text(data['content']), specials=['<unk>'])\n",
    "vocab.set_default_index(vocab['<unk>'])\n"
   ]
  },
  {
   "cell_type": "code",
   "execution_count": 11,
   "id": "732747a6-e466-4699-be67-a061434ff2a3",
   "metadata": {},
   "outputs": [],
   "source": [
    "# LSTM 모델 클래스 정의\n",
    "class LSTMModel(nn.Module):\n",
    "    def __init__(self, vocab_size, embedding_dim, hidden_dim, output_dim):\n",
    "        super(LSTMModel, self).__init__()\n",
    "        self.embedding = nn.Embedding(vocab_size, embedding_dim)\n",
    "        self.lstm = nn.LSTM(embedding_dim, hidden_dim, batch_first=True)\n",
    "        self.fc = nn.Linear(hidden_dim, output_dim)\n",
    "\n",
    "    def forward(self, x):\n",
    "        embedded = self.embedding(x)\n",
    "        lstm_out, _ = self.lstm(embedded)\n",
    "        out = self.fc(lstm_out[:, -1, :])\n",
    "        return out"
   ]
  },
  {
   "cell_type": "code",
   "execution_count": null,
   "id": "81e86aa0-b4d4-4ab1-a61c-4da95f087713",
   "metadata": {},
   "outputs": [],
   "source": []
  },
  {
   "cell_type": "code",
   "execution_count": 12,
   "id": "61f2e8a0-f509-4e48-ad0b-ab188236e6cd",
   "metadata": {},
   "outputs": [
    {
     "ename": "NameError",
     "evalue": "name 'ratings' is not defined",
     "output_type": "error",
     "traceback": [
      "\u001b[0;31m---------------------------------------------------------------------------\u001b[0m",
      "\u001b[0;31mNameError\u001b[0m                                 Traceback (most recent call last)",
      "Cell \u001b[0;32mIn[12], line 5\u001b[0m\n\u001b[1;32m      3\u001b[0m EMBED_DIM \u001b[38;5;241m=\u001b[39m \u001b[38;5;241m64\u001b[39m\n\u001b[1;32m      4\u001b[0m HIDDEN_DIM \u001b[38;5;241m=\u001b[39m \u001b[38;5;241m128\u001b[39m\n\u001b[0;32m----> 5\u001b[0m OUTPUT_DIM \u001b[38;5;241m=\u001b[39m \u001b[38;5;28mlen\u001b[39m(\u001b[38;5;28mset\u001b[39m(\u001b[43mratings\u001b[49m))  \u001b[38;5;66;03m# 예측할 점수 개수\u001b[39;00m\n\u001b[1;32m      7\u001b[0m \u001b[38;5;66;03m# 모델 초기화\u001b[39;00m\n\u001b[1;32m      8\u001b[0m model \u001b[38;5;241m=\u001b[39m LSTMModel(VOCAB_SIZE, EMBED_DIM, HIDDEN_DIM, OUTPUT_DIM)\n",
      "\u001b[0;31mNameError\u001b[0m: name 'ratings' is not defined"
     ]
    }
   ],
   "source": []
  },
  {
   "cell_type": "code",
   "execution_count": null,
   "id": "b68fe94c-0d92-4815-aee5-f6a8cf86fa37",
   "metadata": {},
   "outputs": [],
   "source": []
  }
 ],
 "metadata": {
  "kernelspec": {
   "display_name": "DLenv",
   "language": "python",
   "name": "dlenv"
  },
  "language_info": {
   "codemirror_mode": {
    "name": "ipython",
    "version": 3
   },
   "file_extension": ".py",
   "mimetype": "text/x-python",
   "name": "python",
   "nbconvert_exporter": "python",
   "pygments_lexer": "ipython3",
   "version": "3.8.20"
  }
 },
 "nbformat": 4,
 "nbformat_minor": 5
}
