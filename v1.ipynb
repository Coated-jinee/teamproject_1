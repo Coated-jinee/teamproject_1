{
 "cells": [
  {
   "cell_type": "code",
   "execution_count": 1,
   "id": "78f967ed-a18c-46aa-a5f1-240fa5020363",
   "metadata": {},
   "outputs": [],
   "source": [
    "import pandas as pd\n",
    "import numpy as np\n",
    "import seaborn as sns #그래프용 seaborn 라이브러리\n",
    "import matplotlib.pyplot as plt #그래프 표시\n",
    "import re\n",
    "import torch.nn as nn\n",
    "import torch.optim as optim\n",
    "from torch.utils.data import DataLoader, Dataset\n",
    "from sklearn.model_selection import train_test_split"
   ]
  },
  {
   "cell_type": "markdown",
   "id": "255e2a1e",
   "metadata": {},
   "source": [
    "아랫 부분은 추가 작업인데, 뒷부분에서 나오는 torch와 torchtext 버전 문제로 실행되지 않는 코드가 있어서\n",
    "tourch와 torchtext 버전 확인 하는 코드를 한줄 넣었습니다."
   ]
  },
  {
   "cell_type": "code",
   "execution_count": 2,
   "id": "dba3e8dd-3b6a-42a2-8246-dbeb987f0166",
   "metadata": {},
   "outputs": [
    {
     "name": "stdout",
     "output_type": "stream",
     "text": [
      "PyTorch Version: 2.0.1\n",
      "Torchtext Version: 0.15.2\n"
     ]
    }
   ],
   "source": [
    "import torch\n",
    "import torchtext\n",
    "\n",
    "print(\"PyTorch Version:\", torch.__version__)\n",
    "print(\"Torchtext Version:\", torchtext.__version__)"
   ]
  },
  {
   "cell_type": "code",
   "execution_count": null,
   "id": "3036647f-85cf-416e-9da2-12d3d6504720",
   "metadata": {},
   "outputs": [],
   "source": [
    "# 기존의 torch 및 torchtext 제거\n",
    "!pip uninstall -y torch torchvision torchaudio torchtext\n",
    "\n",
    "# PyTorch 2.0.1 및 Torchtext 0.15.2 설치\n",
    "!pip install torch==2.0.1 torchvision torchaudio torchtext==0.15.2"
   ]
  },
  {
   "cell_type": "markdown",
   "id": "48234d3b-33ba-42b0-ad3c-b1004fd339c2",
   "metadata": {},
   "source": [
    "1. 데이터셋 불러오기"
   ]
  },
  {
   "cell_type": "code",
   "execution_count": 3,
   "id": "ef4d071a-ff20-408f-9f8c-dad503f87d50",
   "metadata": {},
   "outputs": [],
   "source": [
    "# 데이터 로드\n",
    "data = pd.read_csv('netflix_reviews.csv')"
   ]
  },
  {
   "cell_type": "markdown",
   "id": "9af5eb96-4077-417f-93db-b017905a9283",
   "metadata": {},
   "source": [
    "2. 데이터 전처리"
   ]
  },
  {
   "cell_type": "code",
   "execution_count": 4,
   "id": "ace04ff5-dfe3-4efb-80ed-589be15b4ca5",
   "metadata": {},
   "outputs": [],
   "source": [
    "# 수정된 데이터 전처리 함수\n",
    "def preprocess_text(content):\n",
    "    if isinstance(content, float):\n",
    "        return ''\n",
    "    # 모든 텍스트를 소문자로 변환\n",
    "    content = content.lower()\n",
    "    # 알파벳과 공백만 남기기\n",
    "    content = re.sub(r'[^a-z\\s]', '', content)  # 알파벳과 공백만 유지\n",
    "    # 다수의 공백을 하나의 공백으로 줄이기\n",
    "    content = re.sub(r'\\s+', ' ', content)\n",
    "    content = content.strip()  # 앞뒤 공백 제거\n",
    "    return content.split()  # 단어 단위로 분리"
   ]
  },
  {
   "cell_type": "markdown",
   "id": "7a27f62c",
   "metadata": {},
   "source": []
  },
  {
   "cell_type": "markdown",
   "id": "1a504a73",
   "metadata": {},
   "source": [
    "3. feature 분석 "
   ]
  },
  {
   "cell_type": "code",
   "execution_count": 5,
   "id": "1ee5ed9b-aaa9-4d2f-b85f-2904b61f1697",
   "metadata": {},
   "outputs": [
    {
     "data": {
      "image/png": "[encoded data removed]",
      "text/plain": [
       "<Figure size 640x480 with 1 Axes>"
      ]
     },
     "metadata": {},
     "output_type": "display_data"
    }
   ],
   "source": [
    "# 시각화\n",
    "palette = sns.color_palette('husl', 5)\n",
    "sns.barplot(x=data['score'].value_counts().index, \n",
    "            y=data['score'].value_counts().values, \n",
    "            palette=palette, \n",
    "            hue=data['score'].value_counts().index, \n",
    "            dodge=False, \n",
    "            legend=False)\n",
    "plt.xlabel('Score')\n",
    "plt.ylabel('Count')\n",
    "plt.title('Netflix Review Analysis')\n",
    "plt.show()\n",
    "\n",
    "#palette 인자를 사용하면서 hue를 설정하지 않아서 발생한 경고를 처리함\n",
    "# hue를 x로 설정하고, legend를 False로 지정"
   ]
  },
  {
   "cell_type": "markdown",
   "id": "76af6cda",
   "metadata": {},
   "source": [
    "4. 클래스 정의"
   ]
  },
  {
   "cell_type": "code",
   "execution_count": 6,
   "id": "71621a43-4922-43bf-8aa0-fb13232263ff",
   "metadata": {},
   "outputs": [],
   "source": [
    "# Dataset 클래스 정의\n",
    "class ReviewDataset(Dataset):\n",
    "    def __init__(self, content, score, preprocess_text):\n",
    "        self.content = content\n",
    "        self.score = score\n",
    "        self.preprocess_text = preprocess_text\n",
    "\n",
    "    def __len__(self):\n",
    "        return len(self.content)\n",
    "\n",
    "    def __getitem__(self, idx):\n",
    "        content = self.preprocess_text(self.content.iloc[idx])\n",
    "        score = self.score.iloc[idx]\n",
    "        return content, score"
   ]
  },
  {
   "cell_type": "code",
   "execution_count": 7,
   "id": "65e5d0a0",
   "metadata": {},
   "outputs": [],
   "source": [
    "# 데이터 분할\n",
    "train_content, test_content, train_score, test_score = train_test_split(\n",
    "    data['content'], data['score'], test_size=0.2, random_state=42)\n",
    "\n",
    "# 배치 크기 설정\n",
    "batch_size = 64\n",
    "\n",
    "# Dataset 객체 생성\n",
    "train_dataset = ReviewDataset(train_content, train_score, preprocess_text)\n",
    "test_dataset = ReviewDataset(test_content, test_score, preprocess_text)"
   ]
  },
  {
   "cell_type": "code",
   "execution_count": 8,
   "id": "b0bec6eb",
   "metadata": {},
   "outputs": [],
   "source": [
    "def content_text(content):\n",
    "    for text in content:\n",
    "        # 만약 숫자형(float)이거나 NaN인 경우 빈 문자열로 처리\n",
    "        if isinstance(text, float):\n",
    "            text = \"\"\n",
    "        yield text.split()\n",
    "\n",
    "from torchtext.vocab import build_vocab_from_iterator\n",
    "vocab = build_vocab_from_iterator(content_text(data['content']), specials=['<unk>'])\n",
    "vocab.set_default_index(vocab['<unk>'])"
   ]
  },
  {
   "cell_type": "code",
   "execution_count": 9,
   "id": "080a9c58",
   "metadata": {},
   "outputs": [],
   "source": [
    "# LSTM 모델 클래스 정의\n",
    "class LSTMModel(nn.Module):\n",
    "    def __init__(self, vocab_size, embedding_dim, hidden_dim, output_dim):\n",
    "        super(LSTMModel, self).__init__()\n",
    "        self.embedding = nn.Embedding(vocab_size, embedding_dim)\n",
    "        self.lstm = nn.LSTM(embedding_dim, hidden_dim, batch_first=True)\n",
    "        self.fc = nn.Linear(hidden_dim, output_dim)\n",
    "\n",
    "    def forward(self, x):\n",
    "        embedded = self.embedding(x)\n",
    "        lstm_out, _ = self.lstm(embedded)\n",
    "        out = self.fc(lstm_out[:, -1, :])\n",
    "        return out"
   ]
  },
  {
   "cell_type": "code",
   "execution_count": 22,
   "id": "0c1a9ad3-a3c6-4fa9-94d5-9dc315a0a164",
   "metadata": {},
   "outputs": [],
   "source": [
    "import torch\n",
    "from torch.nn.utils.rnn import pad_sequence\n",
    "\n",
    "# collate_fn 함수 수정\n",
    "def collate_fn(batch):\n",
    "    texts, labels = zip(*batch)\n",
    "    # 각 텍스트를 텐서로 변환\n",
    "    texts = [torch.tensor(text) for text in texts]  # 리스트 안의 각 텍스트를 텐서로 변환\n",
    "    texts_padded = pad_sequence(texts, batch_first=True, padding_value=0)  # 패딩 값을 0으로 지정\n",
    "    labels = torch.tensor(labels)  # 레이블을 텐서로 변환\n",
    "    return texts_padded, labels\n",
    "\n",
    "# 데이터 로더 정의\n",
    "BATCH_SIZE = 64\n",
    "\n",
    "train_dataloader = DataLoader(train_dataset, batch_size=BATCH_SIZE, shuffle=True, collate_fn=collate_fn)\n",
    "test_dataloader = DataLoader(test_dataset, batch_size=BATCH_SIZE, shuffle=False, collate_fn=collate_fn)\n"
   ]
  },
  {
   "cell_type": "code",
   "execution_count": 24,
   "id": "81e86aa0-b4d4-4ab1-a61c-4da95f087713",
   "metadata": {},
   "outputs": [],
   "source": [
    "# 하이퍼파라미터 정의\n",
    "VOCAB_SIZE = len(vocab)\n",
    "EMBED_DIM = 64\n",
    "HIDDEN_DIM = 128\n",
    "OUTPUT_DIM = len(set(train_score))  # 예측할 점수 개수 (train_score에서 가져옴)\n",
    "\n",
    "# 모델 초기화\n",
    "model = LSTMModel(VOCAB_SIZE, EMBED_DIM, HIDDEN_DIM, OUTPUT_DIM)\n",
    "\n",
    "# 손실 함수와 옵티마이저 정의\n",
    "criterion = nn.CrossEntropyLoss()\n",
    "optimizer = optim.SGD(model.parameters(), lr=0.01)"
   ]
  },
  {
   "cell_type": "code",
   "execution_count": 23,
   "id": "61f2e8a0-f509-4e48-ad0b-ab188236e6cd",
   "metadata": {},
   "outputs": [],
   "source": [
    "# 모델 학습 함수\n",
    "def train_model(model, train_loader, criterion, optimizer, num_epochs):\n",
    "    model.train()  # 모델을 학습 모드로 전환\n",
    "    for epoch in range(num_epochs):\n",
    "        total_loss = 0\n",
    "        for batch_idx, (texts, labels) in enumerate(train_loader):\n",
    "            optimizer.zero_grad()  # 옵티마이저의 기울기 초기화\n",
    "\n",
    "            # 순전파\n",
    "            output = model(texts)\n",
    "            loss = criterion(output, labels)\n",
    "            \n",
    "            # 역전파\n",
    "            loss.backward()\n",
    "            optimizer.step()\n",
    "\n",
    "            total_loss += loss.item()\n",
    "\n",
    "        avg_loss = total_loss / len(train_loader)\n",
    "        print(f'Epoch [{epoch + 1}/{num_epochs}], Loss: {avg_loss:.4f}')      "
   ]
  },
  {
   "cell_type": "code",
   "execution_count": 25,
   "id": "d1d78f47",
   "metadata": {},
   "outputs": [
    {
     "ename": "ValueError",
     "evalue": "too many dimensions 'str'",
     "output_type": "error",
     "traceback": [
      "\u001b[0;31m---------------------------------------------------------------------------\u001b[0m",
      "\u001b[0;31mValueError\u001b[0m                                Traceback (most recent call last)",
      "Cell \u001b[0;32mIn[25], line 2\u001b[0m\n\u001b[1;32m      1\u001b[0m \u001b[38;5;66;03m# 학습 실행\u001b[39;00m\n\u001b[0;32m----> 2\u001b[0m \u001b[43mtrain_model\u001b[49m\u001b[43m(\u001b[49m\u001b[43mmodel\u001b[49m\u001b[43m,\u001b[49m\u001b[43m \u001b[49m\u001b[43mtrain_dataloader\u001b[49m\u001b[43m,\u001b[49m\u001b[43m \u001b[49m\u001b[43mcriterion\u001b[49m\u001b[43m,\u001b[49m\u001b[43m \u001b[49m\u001b[43moptimizer\u001b[49m\u001b[43m,\u001b[49m\u001b[43m \u001b[49m\u001b[43mnum_epochs\u001b[49m\u001b[38;5;241;43m=\u001b[39;49m\u001b[38;5;241;43m5\u001b[39;49m\u001b[43m)\u001b[49m\n",
      "Cell \u001b[0;32mIn[23], line 6\u001b[0m, in \u001b[0;36mtrain_model\u001b[0;34m(model, train_loader, criterion, optimizer, num_epochs)\u001b[0m\n\u001b[1;32m      4\u001b[0m \u001b[38;5;28;01mfor\u001b[39;00m epoch \u001b[38;5;129;01min\u001b[39;00m \u001b[38;5;28mrange\u001b[39m(num_epochs):\n\u001b[1;32m      5\u001b[0m     total_loss \u001b[38;5;241m=\u001b[39m \u001b[38;5;241m0\u001b[39m\n\u001b[0;32m----> 6\u001b[0m     \u001b[38;5;28;01mfor\u001b[39;00m batch_idx, (texts, labels) \u001b[38;5;129;01min\u001b[39;00m \u001b[38;5;28menumerate\u001b[39m(train_loader):\n\u001b[1;32m      7\u001b[0m         optimizer\u001b[38;5;241m.\u001b[39mzero_grad()  \u001b[38;5;66;03m# 옵티마이저의 기울기 초기화\u001b[39;00m\n\u001b[1;32m      9\u001b[0m         \u001b[38;5;66;03m# 순전파\u001b[39;00m\n",
      "File \u001b[0;32m/opt/anaconda3/envs/DLenv/lib/python3.8/site-packages/torch/utils/data/dataloader.py:633\u001b[0m, in \u001b[0;36m_BaseDataLoaderIter.__next__\u001b[0;34m(self)\u001b[0m\n\u001b[1;32m    630\u001b[0m \u001b[38;5;28;01mif\u001b[39;00m \u001b[38;5;28mself\u001b[39m\u001b[38;5;241m.\u001b[39m_sampler_iter \u001b[38;5;129;01mis\u001b[39;00m \u001b[38;5;28;01mNone\u001b[39;00m:\n\u001b[1;32m    631\u001b[0m     \u001b[38;5;66;03m# TODO(https://github.com/pytorch/pytorch/issues/76750)\u001b[39;00m\n\u001b[1;32m    632\u001b[0m     \u001b[38;5;28mself\u001b[39m\u001b[38;5;241m.\u001b[39m_reset()  \u001b[38;5;66;03m# type: ignore[call-arg]\u001b[39;00m\n\u001b[0;32m--> 633\u001b[0m data \u001b[38;5;241m=\u001b[39m \u001b[38;5;28;43mself\u001b[39;49m\u001b[38;5;241;43m.\u001b[39;49m\u001b[43m_next_data\u001b[49m\u001b[43m(\u001b[49m\u001b[43m)\u001b[49m\n\u001b[1;32m    634\u001b[0m \u001b[38;5;28mself\u001b[39m\u001b[38;5;241m.\u001b[39m_num_yielded \u001b[38;5;241m+\u001b[39m\u001b[38;5;241m=\u001b[39m \u001b[38;5;241m1\u001b[39m\n\u001b[1;32m    635\u001b[0m \u001b[38;5;28;01mif\u001b[39;00m \u001b[38;5;28mself\u001b[39m\u001b[38;5;241m.\u001b[39m_dataset_kind \u001b[38;5;241m==\u001b[39m _DatasetKind\u001b[38;5;241m.\u001b[39mIterable \u001b[38;5;129;01mand\u001b[39;00m \\\n\u001b[1;32m    636\u001b[0m         \u001b[38;5;28mself\u001b[39m\u001b[38;5;241m.\u001b[39m_IterableDataset_len_called \u001b[38;5;129;01mis\u001b[39;00m \u001b[38;5;129;01mnot\u001b[39;00m \u001b[38;5;28;01mNone\u001b[39;00m \u001b[38;5;129;01mand\u001b[39;00m \\\n\u001b[1;32m    637\u001b[0m         \u001b[38;5;28mself\u001b[39m\u001b[38;5;241m.\u001b[39m_num_yielded \u001b[38;5;241m>\u001b[39m \u001b[38;5;28mself\u001b[39m\u001b[38;5;241m.\u001b[39m_IterableDataset_len_called:\n",
      "File \u001b[0;32m/opt/anaconda3/envs/DLenv/lib/python3.8/site-packages/torch/utils/data/dataloader.py:677\u001b[0m, in \u001b[0;36m_SingleProcessDataLoaderIter._next_data\u001b[0;34m(self)\u001b[0m\n\u001b[1;32m    675\u001b[0m \u001b[38;5;28;01mdef\u001b[39;00m \u001b[38;5;21m_next_data\u001b[39m(\u001b[38;5;28mself\u001b[39m):\n\u001b[1;32m    676\u001b[0m     index \u001b[38;5;241m=\u001b[39m \u001b[38;5;28mself\u001b[39m\u001b[38;5;241m.\u001b[39m_next_index()  \u001b[38;5;66;03m# may raise StopIteration\u001b[39;00m\n\u001b[0;32m--> 677\u001b[0m     data \u001b[38;5;241m=\u001b[39m \u001b[38;5;28;43mself\u001b[39;49m\u001b[38;5;241;43m.\u001b[39;49m\u001b[43m_dataset_fetcher\u001b[49m\u001b[38;5;241;43m.\u001b[39;49m\u001b[43mfetch\u001b[49m\u001b[43m(\u001b[49m\u001b[43mindex\u001b[49m\u001b[43m)\u001b[49m  \u001b[38;5;66;03m# may raise StopIteration\u001b[39;00m\n\u001b[1;32m    678\u001b[0m     \u001b[38;5;28;01mif\u001b[39;00m \u001b[38;5;28mself\u001b[39m\u001b[38;5;241m.\u001b[39m_pin_memory:\n\u001b[1;32m    679\u001b[0m         data \u001b[38;5;241m=\u001b[39m _utils\u001b[38;5;241m.\u001b[39mpin_memory\u001b[38;5;241m.\u001b[39mpin_memory(data, \u001b[38;5;28mself\u001b[39m\u001b[38;5;241m.\u001b[39m_pin_memory_device)\n",
      "File \u001b[0;32m/opt/anaconda3/envs/DLenv/lib/python3.8/site-packages/torch/utils/data/_utils/fetch.py:54\u001b[0m, in \u001b[0;36m_MapDatasetFetcher.fetch\u001b[0;34m(self, possibly_batched_index)\u001b[0m\n\u001b[1;32m     52\u001b[0m \u001b[38;5;28;01melse\u001b[39;00m:\n\u001b[1;32m     53\u001b[0m     data \u001b[38;5;241m=\u001b[39m \u001b[38;5;28mself\u001b[39m\u001b[38;5;241m.\u001b[39mdataset[possibly_batched_index]\n\u001b[0;32m---> 54\u001b[0m \u001b[38;5;28;01mreturn\u001b[39;00m \u001b[38;5;28;43mself\u001b[39;49m\u001b[38;5;241;43m.\u001b[39;49m\u001b[43mcollate_fn\u001b[49m\u001b[43m(\u001b[49m\u001b[43mdata\u001b[49m\u001b[43m)\u001b[49m\n",
      "Cell \u001b[0;32mIn[22], line 8\u001b[0m, in \u001b[0;36mcollate_fn\u001b[0;34m(batch)\u001b[0m\n\u001b[1;32m      6\u001b[0m texts, labels \u001b[38;5;241m=\u001b[39m \u001b[38;5;28mzip\u001b[39m(\u001b[38;5;241m*\u001b[39mbatch)\n\u001b[1;32m      7\u001b[0m \u001b[38;5;66;03m# 각 텍스트를 텐서로 변환\u001b[39;00m\n\u001b[0;32m----> 8\u001b[0m texts \u001b[38;5;241m=\u001b[39m [torch\u001b[38;5;241m.\u001b[39mtensor(text) \u001b[38;5;28;01mfor\u001b[39;00m text \u001b[38;5;129;01min\u001b[39;00m texts]  \u001b[38;5;66;03m# 리스트 안의 각 텍스트를 텐서로 변환\u001b[39;00m\n\u001b[1;32m      9\u001b[0m texts_padded \u001b[38;5;241m=\u001b[39m pad_sequence(texts, batch_first\u001b[38;5;241m=\u001b[39m\u001b[38;5;28;01mTrue\u001b[39;00m, padding_value\u001b[38;5;241m=\u001b[39m\u001b[38;5;241m0\u001b[39m)  \u001b[38;5;66;03m# 패딩 값을 0으로 지정\u001b[39;00m\n\u001b[1;32m     10\u001b[0m labels \u001b[38;5;241m=\u001b[39m torch\u001b[38;5;241m.\u001b[39mtensor(labels)  \u001b[38;5;66;03m# 레이블을 텐서로 변환\u001b[39;00m\n",
      "Cell \u001b[0;32mIn[22], line 8\u001b[0m, in \u001b[0;36m<listcomp>\u001b[0;34m(.0)\u001b[0m\n\u001b[1;32m      6\u001b[0m texts, labels \u001b[38;5;241m=\u001b[39m \u001b[38;5;28mzip\u001b[39m(\u001b[38;5;241m*\u001b[39mbatch)\n\u001b[1;32m      7\u001b[0m \u001b[38;5;66;03m# 각 텍스트를 텐서로 변환\u001b[39;00m\n\u001b[0;32m----> 8\u001b[0m texts \u001b[38;5;241m=\u001b[39m [\u001b[43mtorch\u001b[49m\u001b[38;5;241;43m.\u001b[39;49m\u001b[43mtensor\u001b[49m\u001b[43m(\u001b[49m\u001b[43mtext\u001b[49m\u001b[43m)\u001b[49m \u001b[38;5;28;01mfor\u001b[39;00m text \u001b[38;5;129;01min\u001b[39;00m texts]  \u001b[38;5;66;03m# 리스트 안의 각 텍스트를 텐서로 변환\u001b[39;00m\n\u001b[1;32m      9\u001b[0m texts_padded \u001b[38;5;241m=\u001b[39m pad_sequence(texts, batch_first\u001b[38;5;241m=\u001b[39m\u001b[38;5;28;01mTrue\u001b[39;00m, padding_value\u001b[38;5;241m=\u001b[39m\u001b[38;5;241m0\u001b[39m)  \u001b[38;5;66;03m# 패딩 값을 0으로 지정\u001b[39;00m\n\u001b[1;32m     10\u001b[0m labels \u001b[38;5;241m=\u001b[39m torch\u001b[38;5;241m.\u001b[39mtensor(labels)  \u001b[38;5;66;03m# 레이블을 텐서로 변환\u001b[39;00m\n",
      "\u001b[0;31mValueError\u001b[0m: too many dimensions 'str'"
     ]
    }
   ],
   "source": [
    "# 학습 실행\n",
    "train_model(model, train_dataloader, criterion, optimizer, num_epochs=5)"
   ]
  },
  {
   "cell_type": "code",
   "execution_count": 15,
   "id": "a83e2fd4",
   "metadata": {},
   "outputs": [
    {
     "name": "stdout",
     "output_type": "stream",
     "text": [
      "Predicted Score: 0\n"
     ]
    }
   ],
   "source": [
    "# 텍스트를 인덱스로 변환하는 함수\n",
    "def text_pipeline(text):\n",
    "    tokens = preprocess_text(text)  # 텍스트 전처리 및 토큰화\n",
    "    indices = [vocab[token] for token in tokens if token in vocab]  # 단어를 인덱스로 변환\n",
    "    return indices\n",
    "\n",
    "# 예측 함수\n",
    "def predict_review(model, review):\n",
    "    model.eval()\n",
    "    with torch.no_grad():\n",
    "        # 리뷰를 텐서로 변환\n",
    "        tensor_review = torch.tensor(text_pipeline(review), dtype=torch.long).unsqueeze(0)\n",
    "        \n",
    "        # 모델에 입력\n",
    "        output = model(tensor_review)\n",
    "        \n",
    "        # 예측 결과를 추출\n",
    "        prediction = output.argmax(1).item()\n",
    "        return prediction\n",
    "\n",
    "# 새로운 리뷰에 대한 예측\n",
    "new_review = \"This app is great but has some bugs.\"\n",
    "predicted_score = predict_review(model, new_review)\n",
    "print(f'Predicted Score: {predicted_score}')"
   ]
  },
  {
   "cell_type": "code",
   "execution_count": 16,
   "id": "f62d683d",
   "metadata": {},
   "outputs": [
    {
     "name": "stdout",
     "output_type": "stream",
     "text": [
      "Review: \"This app works perfectly and has amazing features!\"\n",
      "Predicted Score: 2\n",
      "\n",
      "Review: \"I absolutely love this app, it exceeded my expectations.\"\n",
      "Predicted Score: 1\n",
      "\n",
      "Review: \"The interface is user-friendly, and the app performs smoothly.\"\n",
      "Predicted Score: 0\n",
      "\n",
      "Review: \"Great customer support and fantastic overall experience!\"\n",
      "Predicted Score: 0\n",
      "\n",
      "Review: \"I highly recommend this app, it's the best I've used so far.\"\n",
      "Predicted Score: 0\n",
      "\n"
     ]
    }
   ],
   "source": [
    "# 예시 문장 리스트\n",
    "positive_reviews = [\n",
    "    \"This app works perfectly and has amazing features!\",\n",
    "    \"I absolutely love this app, it exceeded my expectations.\",\n",
    "    \"The interface is user-friendly, and the app performs smoothly.\",\n",
    "    \"Great customer support and fantastic overall experience!\",\n",
    "    \"I highly recommend this app, it's the best I've used so far.\"\n",
    "]\n",
    "\n",
    "# 긍정 리뷰에 대한 예측\n",
    "for review in positive_reviews:\n",
    "    predicted_score = predict_review(model, review)\n",
    "    print(f'Review: \"{review}\"\\nPredicted Score: {predicted_score}\\n')"
   ]
  },
  {
   "cell_type": "code",
   "execution_count": 17,
   "id": "6015be0a",
   "metadata": {},
   "outputs": [
    {
     "name": "stdout",
     "output_type": "stream",
     "text": [
      "Review: \"This app is terrible and crashes all the time.\"\n",
      "Predicted Score: 0\n",
      "\n",
      "Review: \"I hate using this app, it's full of bugs and very slow.\"\n",
      "Predicted Score: 4\n",
      "\n",
      "Review: \"The interface is confusing and the features are disappointing.\"\n",
      "Predicted Score: 4\n",
      "\n",
      "Review: \"Poor customer support and a really bad overall experience.\"\n",
      "Predicted Score: 0\n",
      "\n",
      "Review: \"I don't recommend this app, it fails to deliver on its promises.\"\n",
      "Predicted Score: 0\n",
      "\n"
     ]
    }
   ],
   "source": [
    "# 부정적인 리뷰 리스트\n",
    "negative_reviews = [\n",
    "    \"This app is terrible and crashes all the time.\",\n",
    "    \"I hate using this app, it's full of bugs and very slow.\",\n",
    "    \"The interface is confusing and the features are disappointing.\",\n",
    "    \"Poor customer support and a really bad overall experience.\",\n",
    "    \"I don't recommend this app, it fails to deliver on its promises.\"\n",
    "]\n",
    "\n",
    "# 부정 리뷰에 대한 예측\n",
    "for review in negative_reviews:\n",
    "    predicted_score = predict_review(model, review)\n",
    "    print(f'Review: \"{review}\"\\nPredicted Score: {predicted_score}\\n')"
   ]
  },
  {
   "cell_type": "markdown",
   "id": "773fb56a",
   "metadata": {},
   "source": [
    "문제 해결 중 (문제점: 긍정적 리뷰도 1점만 줌)"
   ]
  }
 ],
 "metadata": {
  "kernelspec": {
   "display_name": "DLenv",
   "language": "python",
   "name": "python3"
  },
  "language_info": {
   "codemirror_mode": {
    "name": "ipython",
    "version": 3
   },
   "file_extension": ".py",
   "mimetype": "text/x-python",
   "name": "python",
   "nbconvert_exporter": "python",
   "pygments_lexer": "ipython3",
   "version": "3.8.18"
  }
 },
 "nbformat": 4,
 "nbformat_minor": 5
}
